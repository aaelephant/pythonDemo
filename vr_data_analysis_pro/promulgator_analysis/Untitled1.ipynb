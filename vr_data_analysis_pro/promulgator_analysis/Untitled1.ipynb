{
 "cells": [
  {
   "cell_type": "code",
   "execution_count": null,
   "metadata": {},
   "outputs": [],
   "source": [
    "import pandas as pd\n",
    "\n",
    "import sys\n",
    "sys.path.append('../../')\n",
    "\n",
    "import sql_Module.connectMysql as conMysql\n",
    "\n",
    "conms = conMysql.ConnectMysql()\n",
    "conms.configMdb()\n",
    "\n",
    "loop = True\n",
    "chunkSize = 10000\n",
    "# chunks = []\n",
    "chunks = pd.read_sql('select * from video_play_statistics;', con=conms.connector(), chunksize=chunkSize)\n",
    "# while loop:\n",
    "#   try:\n",
    "\n",
    "#     chunks.append(chunk)\n",
    "#   except StopIteration:\n",
    "#     loop = False\n",
    "    # print \"Iteration is stopped.\"\n",
    "print type(chunks)\n",
    "df = pd.concat(chunks[0], ignore_index=True)\n",
    "r=df.groupby(df['videoSid']).count().iloc[:,:]#count of groupes\n",
    "r.to_excel('out.xlsx', sheet_name='Sheet1',index=True)"
   ]
  }
 ],
 "metadata": {
  "kernelspec": {
   "display_name": "Python 2",
   "language": "python",
   "name": "python2"
  },
  "language_info": {
   "codemirror_mode": {
    "name": "ipython",
    "version": 2
   },
   "file_extension": ".py",
   "mimetype": "text/x-python",
   "name": "python",
   "nbconvert_exporter": "python",
   "pygments_lexer": "ipython2",
   "version": "2.7.13"
  }
 },
 "nbformat": 4,
 "nbformat_minor": 2
}
